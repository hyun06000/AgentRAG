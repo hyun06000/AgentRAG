{
 "cells": [
  {
   "cell_type": "code",
   "execution_count": 16,
   "metadata": {},
   "outputs": [],
   "source": [
    "import os\n",
    "from serpapi import GoogleSearch"
   ]
  },
  {
   "cell_type": "code",
   "execution_count": 2,
   "metadata": {},
   "outputs": [
    {
     "data": {
      "text/plain": [
       "True"
      ]
     },
     "execution_count": 2,
     "metadata": {},
     "output_type": "execute_result"
    }
   ],
   "source": [
    "from dotenv import load_dotenv\n",
    "load_dotenv()"
   ]
  },
  {
   "cell_type": "code",
   "execution_count": 4,
   "metadata": {},
   "outputs": [],
   "source": [
    "params = {\n",
    "  \"engine\": \"naver\",\n",
    "  \"query\": \"Coffee\",\n",
    "  \"where\": \"news\",\n",
    "  \"api_key\": os.environ[\"SERPAPI_API_KEY\"]\n",
    "}\n",
    "\n",
    "search = NaverSearch(params)\n",
    "results = search.get_dict()\n",
    "news_results = results[\"news_results\"]"
   ]
  },
  {
   "cell_type": "code",
   "execution_count": 5,
   "metadata": {},
   "outputs": [
    {
     "data": {
      "text/plain": [
       "[{'position': 1,\n",
       "  'title': 'Coffee franchises in S. Korea rise 13 percent in 2022: data',\n",
       "  'link': 'https://en.yna.co.kr/view/AEN20240408005300320?input=2106m',\n",
       "  'thumbnail': 'https://serpapi.com/searches/66164c5d5c105969877c9c1f/images/513cbea19db88bbfc37ed4c304a0a3d1138ba7d0d72bd639fe0a19af44d53c85.gif',\n",
       "  'news_info': {'press_name': '연합뉴스', 'news_date': '2일 전'},\n",
       "  'snippet': 'franchises-tally Coffee franchises in S. Korea rise 13 percent in 2022: data SEOUL, April 8 (Yonhap) -- The number of coffee franchises in South Korea rose by more than 3,000 on-year in 2022 on rising demand for food and beverages after the COVID-19 pandemic and the...'},\n",
       " {'position': 2,\n",
       "  'title': 'Doosan Robotics to provide collaborative robot solution to Mega Coffee',\n",
       "  'link': 'https://www.mk.co.kr/article/10985781',\n",
       "  'thumbnail': 'https://serpapi.com/searches/66164c5d5c105969877c9c1f/images/513cbea19db88bbf976d22062f4ba6f0aafb105559f7cfcea6ce345d152f975b.gif',\n",
       "  'news_info': {'press_name': '매일경제', 'news_date': '1일 전'},\n",
       "  'snippet': 'will introduce its collaborative robot solution for coffee production to Mega MGC Coffee, a local franchise coffee chain. The collaborative robot barista solution, which was developed in partnership with the coffee chain, will be tested at the Star City shopping mall near...'},\n",
       " {'position': 3,\n",
       "  'title': '김해 율하 카페거리 ‘커피 & 웹툰 거리’로 거듭나',\n",
       "  'link': 'http://www.breaknews.com/1025868',\n",
       "  'thumbnail': 'https://serpapi.com/searches/66164c5d5c105969877c9c1f/images/513cbea19db88bbf952df46b9b474ef3156fb3ea83028d04b570441d08e5a1c4.gif',\n",
       "  'news_info': {'press_name': '브레이크뉴스', 'news_date': '1일 전'},\n",
       "  'snippet': \"Gimhae Yulha Cafe Street is reborn as ‘Coffee & Webtoon Street’ Expected to activate various enjoyments using augmented reality Gimhae City has completed the ‘Coffee & Webtoon Street’ construction project in the Yulha Cafe Street area. In 2023, the city was selected for the 'Gyeongsangnam-do small...\"},\n",
       " {'position': 4,\n",
       "  'title': 'Baemin to deliver Starbucks coffee in S. Korea',\n",
       "  'link': 'https://en.yna.co.kr/view/AEN20240403002600320?input=2106m',\n",
       "  'thumbnail': 'https://serpapi.com/searches/66164c5d5c105969877c9c1f/images/513cbea19db88bbf2d70d6c5cb91cd7b865ab50db99c11815dd0e9d4f3342739.gif',\n",
       "  'news_info': {'press_name': '연합뉴스', 'news_date': '7일 전'},\n",
       "  'snippet': 'delivery app-Starbucks Baemin to deliver Starbucks coffee in S. Korea SEOUL, April 3 (Yonhap) -- Baedal Minjok, or Baemin, a delivery app, said Wednesday it will begin delivering Starbucks coffee and food in South Korea from later this month as it strives to strengthen its...'},\n",
       " {'position': 5,\n",
       "  'title': '커피빈, 韓서 매장 계속 사라지네…작년 영업익 15억 전년비 38%↓',\n",
       "  'link': 'https://www.newsis.com/view/?id=NISX20240409_0002693981&cID=13001&pID=13000',\n",
       "  'thumbnail': 'https://serpapi.com/searches/66164c5d5c105969877c9c1f/images/513cbea19db88bbf68ea0cff02de8fdc1cad14beb51450f4ac5e4197b32c38bb.gif',\n",
       "  'news_info': {'press_name': '뉴시스언론사 선정', 'news_date': '10시간 전'},\n",
       "  'snippet': '커피빈(Coffee Bean)의 국내 매장 수가 2022년 대비 절반 수준으로 줄었다. 수익성도 악화됐다. 지난해 영업이익은 약 15억원으로 2022년 약 25억원 대비 38.1% 감소했다. 10일 금융감독원에 따르면 커피빈코리아는 지난해 12월 31일 기준 현재 228개 매장을 운영 중이다. 공정거래위원회...'},\n",
       " {'position': 6,\n",
       "  'title': 'Korean F&B franchises rush to enter Japanese market',\n",
       "  'link': 'https://www.koreatimes.co.kr/www/tech/2024/04/419_372320.html?na',\n",
       "  'thumbnail': 'https://serpapi.com/searches/66164c5d5c105969877c9c1f/images/513cbea19db88bbf074186d74233319103d2de21543e67126316d656923c0d1a.gif',\n",
       "  'news_info': {'press_name': '코리아타임스', 'news_date': '8시간 전'},\n",
       "  'snippet': '“We made the decision to introduce Korea’s coffee culture to Japan, Asia’s largest coffee consumer,” said Lee Jong-hyun, the CEO of the 26-year-old coffee shop chain. “We will open more stores in major Japanese cities and enter other countries.” Blu Shaak...'},\n",
       " {'position': 7,\n",
       "  'title': 'The Case Against ‘Good’ Coffee',\n",
       "  'link': 'https://www.nytimes.com/2024/04/02/magazine/instant-coffee-benefits.html?partner=naver',\n",
       "  'thumbnail': 'https://serpapi.com/searches/66164c5d5c105969877c9c1f/images/513cbea19db88bbfbaa878e2dfae47b331133c86d22721d616eb5d983bf1e1e0.gif',\n",
       "  'news_info': {'press_name': 'The New York Times', 'news_date': '7일 전'},\n",
       "  'snippet': 'Instant coffee tastes … just OK. And that’s fine by me. Not long ago, I went through a long period during which I awoke every morning with absolutely no desire to make coffee. Don’t misunderstand: I still wanted to drink the stuff. With a 3-year-old and 1-year-old...'},\n",
       " {'position': 8,\n",
       "  'title': 'Consumer Prices',\n",
       "  'link': 'https://n.news.naver.com/mnews/article/077/0006188257?sid=104',\n",
       "  'thumbnail': 'https://serpapi.com/searches/66164c5d5c105969877c9c1f/images/513cbea19db88bbfbc93e2615a150288827b2dfd86cadeed285a4947360be452.gif',\n",
       "  'news_info': {'press_name': 'AP연합뉴스', 'news_date': '4시간 전'},\n",
       "  'snippet': \"FILE - Customers drink coffee at the Blind Tiger Cafe Jan. 10, 2024, in Tampa, Fla. On Wednesday, April 10, 2024, the Labor Department issues its report on inflation at the consumer level in March. (AP Photo/Chris O'Meara, File) FILE\"},\n",
       " {'position': 9,\n",
       "  'title': \"Can't you even drink coffee if you have colorectal cancer?\",\n",
       "  'link': 'https://www.koreabiomed.com/news/articleView.html?idxno=23742',\n",
       "  'thumbnail': 'https://serpapi.com/searches/66164c5d5c105969877c9c1f/images/513cbea19db88bbf79b1e486ad0857e22571b29a63f546766c7a3a437a624e19.gif',\n",
       "  'news_info': {'press_name': 'KBR', 'news_date': '7일 전'},\n",
       "  'snippet': \"There's a myth that coffee should not be drunk because it can dehydrate your body and increase your risk of constipation. Is this true... It's true that if you drink a lot of coffee and don't drink water, you can become dehydrated and constipated, but according to Professor...\"},\n",
       " {'position': 10,\n",
       "  'title': 'Coffee brands from Busan lead low-cost coffee trend',\n",
       "  'link': 'https://www.mk.co.kr/article/10980055',\n",
       "  'thumbnail': 'https://serpapi.com/searches/66164c5d5c105969877c9c1f/images/513cbea19db88bbf77738e18421070693a677ddf997dc0bede222c0843c5182b.gif',\n",
       "  'news_info': {'press_name': '매일경제', 'news_date': '1주 전'},\n",
       "  'snippet': 'Low-cost coffee brands including Compose Coffee, theventi, and Blu Shaak that began their operations in Busan, South Korea, are expanding their stores nationwide and even attempting to venture overseas. According to industry sources on Monday, Blu Shaak is gaining attention...'}]"
      ]
     },
     "execution_count": 5,
     "metadata": {},
     "output_type": "execute_result"
    }
   ],
   "source": [
    "news_results"
   ]
  },
  {
   "cell_type": "code",
   "execution_count": 7,
   "metadata": {},
   "outputs": [
    {
     "data": {
      "text/plain": [
       "list"
      ]
     },
     "execution_count": 7,
     "metadata": {},
     "output_type": "execute_result"
    }
   ],
   "source": [
    "type(news_results)"
   ]
  },
  {
   "cell_type": "code",
   "execution_count": 8,
   "metadata": {},
   "outputs": [
    {
     "data": {
      "text/plain": [
       "{'position': 2,\n",
       " 'title': 'Doosan Robotics to provide collaborative robot solution to Mega Coffee',\n",
       " 'link': 'https://www.mk.co.kr/article/10985781',\n",
       " 'thumbnail': 'https://serpapi.com/searches/66164c5d5c105969877c9c1f/images/513cbea19db88bbf976d22062f4ba6f0aafb105559f7cfcea6ce345d152f975b.gif',\n",
       " 'news_info': {'press_name': '매일경제', 'news_date': '1일 전'},\n",
       " 'snippet': 'will introduce its collaborative robot solution for coffee production to Mega MGC Coffee, a local franchise coffee chain. The collaborative robot barista solution, which was developed in partnership with the coffee chain, will be tested at the Star City shopping mall near...'}"
      ]
     },
     "execution_count": 8,
     "metadata": {},
     "output_type": "execute_result"
    }
   ],
   "source": [
    "news_results[1]"
   ]
  },
  {
   "cell_type": "code",
   "execution_count": 36,
   "metadata": {},
   "outputs": [],
   "source": [
    "def search_naver_tool(query: str) -> str:\n",
    "    \"\"\"이 도구는 한국어에 특화된 검색엔진인 네이버를 이용하여 정보를 검색합니다.\"\"\"\n",
    "    params = {\n",
    "        \"engine\": \"naver\",\n",
    "        \"query\": f\"{query}\",\n",
    "        \"where\": \"web\",\n",
    "        \"device\": \"mobile\",\n",
    "        \"api_key\": os.environ[\"SERPAPI_API_KEY\"]\n",
    "    }\n",
    "\n",
    "    try:\n",
    "        search = NaverSearch(params)\n",
    "        # search_dict = search.get_dict()\n",
    "        # if \"organic_results\" not in search_dict:\n",
    "        #     return \"There is no result. Please change the search phrase to a more shorter and generic words.\"\n",
    "        \n",
    "        # res = str(list(map(\n",
    "        #     lambda x: f\"TITLE: {x['title']} | LINK: {x['link']} | DESCRIPTION: {x['snippet']}\",\n",
    "        #     search_dict[\"organic_results\"]\n",
    "        # )))\n",
    "        res = search\n",
    "    \n",
    "    except Exception as e:\n",
    "        res = str(e)\n",
    "    \n",
    "    return res\n"
   ]
  },
  {
   "cell_type": "code",
   "execution_count": 37,
   "metadata": {},
   "outputs": [],
   "source": [
    "a = search_naver_tool(\"인공지능\")"
   ]
  },
  {
   "cell_type": "code",
   "execution_count": 38,
   "metadata": {},
   "outputs": [
    {
     "data": {
      "text/plain": [
       "{'search_metadata': {'id': '661abaec4d443d3748540149',\n",
       "  'status': 'Success',\n",
       "  'json_endpoint': 'https://serpapi.com/searches/e571aa483a710658/661abaec4d443d3748540149.json',\n",
       "  'created_at': '2024-04-13 17:03:40 UTC',\n",
       "  'processed_at': '2024-04-13 17:03:40 UTC',\n",
       "  'naver_url': 'https://search.naver.com/search.naver?query=%EC%9D%B8%EA%B3%B5%EC%A7%80%EB%8A%A5&where=web',\n",
       "  'raw_html_file': 'https://serpapi.com/searches/e571aa483a710658/661abaec4d443d3748540149.html',\n",
       "  'total_time_taken': 2.7},\n",
       " 'search_parameters': {'query': '인공지능', 'engine': 'naver', 'where': 'web'},\n",
       " 'ads_results': [{'title': 'Databricks 보고서',\n",
       "   'description': '지금 보고서 다운로드하여 전략적 정보를 얻고 데이터와 AI에서 앞서 나가세요.',\n",
       "   'site': 'databricks.com/kr',\n",
       "   'link': 'https://adcr.naver.com/adcr?x=pmEODWNMwrk+ONSBLhrYL////w==k02z56LCDZUPmWZTv9aHh1nis8sQkgTMk6wogS08iU3rtUu5/5uJqFfVBup8dCy2/ENV3gzSXMEFMQYF8anD1oCZrHl0qdJeNCNMggTI8pbz9Qe9OOMp09mou4v28o9RvsLC+rWj/OCfWD4FCN78RdZn4PkQ1sXNfixgtFj6tK4zTkvQiDTjicnatu2zqZkdfHjPvi8C9f8Ueq62RKM9U5qua/9kJW/4z0JUO0stX61RBjNkkaZQT/TDuTkM+Ly1b+2Y1lOWWn3POqkwhSejadUXeID73z+YBtDmlcO1+ZfhE/0fcPAznKd+TVugd5MWeQt7ug1BWe0u5eoPlKGL9yh78Ewf8qjVZJW/tDxT+P+LdI0k9OZSy/m8knk6i+ko+uUTpmqI3gEKbLGCU8kS67fVfFhBQEt1gWZcZYh+bhvBB4Pk0lge0nbcqkiuBv6gTeygo2mgsfKLE4QryILOHcoyvXFnOxgygLrTiltyHS+f2N5ql1WkzDj3QjD0gl0GmSrzth0wJPkrPM6a3Suc2K1IPXyKz0Rgyd8uHTb6WAmMYFujeGTBfHLHcDXPqOesWi0XcFOXBtVLmEVfvQA2lL8mK7YsJDuWTZL17dsriRvhFCdph5iikP7SGC3r67Ld8UucEXnudU5IuZP86mTM3ySSt0HG71y5cTjJgz7nsKz3DrY2/r0Fp242ye4+9Z6WIfWrt7brPWKRq3abhOLefBEoS8LCSDjYyoxyUsNXZDUdVRgj6clinuEt3KIKfQQ4H3W0uRv58bokSFoNLUqI4eMe06/PSex0kU3bbNKk53fiLb/LbPvlRmPKTK5gcZnxu0PZDXfN9XtZ4U3M5Wm810X/X24I+2QFwu1JxcX4QQ2WzsXi9zlI6gdcnGtTAr7MAwFtKeVAr5jR0KwGF0ohpb5bM3KpMURr9D3+D2dU1TLjF01qhI5fGBNk7OyoYZDXAu9F+n0f831CRGsEu+Rgt1UXHRRd9JXOyQ7k4CtPjJSbB67hDxg/SotX83BoopmROIQymTMN+ZfWI0lSD4WWoaEnCu8OdvCDjkMTjJX4oAtA=&p=0',\n",
       "   'thumbnail': 'https://ssl.pstatic.net/adimg3.search/imp/nx/power/m/230719/img/icon_favicon.png'},\n",
       "  {'title': '다큐브 GPT',\n",
       "   'description': '사용 중인 시스템과 솔루션에 업무용 GPT를 도입해 보세요. 스마트폰과 태블릿, PC에서도 업무를 간편하게 처리할 수 있어요.',\n",
       "   'site': 'daquv.com',\n",
       "   'link': 'https://adcr.naver.com/adcr?x=iytMkLErVrdQuZilZHnZfP///w==kiBzOx2+7G4IhF23RSCiu+rexJT8aGYBua5dG7LT8xBPp3QurVaCtn4VJcczE7SRf8Kz7hfcXzS5osbFF4cZ0ALyIzUAXQA3E3YzS6vS7E5+BAXUtEpjVMFI770GjgEIDFZBbya3M8Uvtc9VG4VWS+maL/7BAs/y2X80EkLM1IwNEkJMarUUlahA6Ln6nL/6oH0wZu4i+eW0L9402fR4R/5cF3o5mxQdc6t3TQBvgMKnupB0cIYQuX6SM/kCRIIaPAXKk37DtSzC4r2HvFyaOIiX0zTItpQblM3pKYOIoxwG/1SLR5kmeh2q8t4Hd/mKSEcgI2xeo5GxiFkeJxz974H4Hxph9p+wBNldjKVwdIsCRMiN4Nn7wGjlDALrX9r09Z9buj5dy8MFeLEJ5tvE+8d5kV6gOlgEPRU36Sj179zyX3HCg41P68AMp+yUj/hxhiVSqZWREcjLJsEyhhBMyniCjMPzG2F3EfFeQWS9AU/s08W02wJy1v4Yfm7WocaszD+eAlW5K0DDyOC2k32tvGUcF7ubt/Atl7ZWBUsctz0eAq8H2v1vhs0A/cLPboSgyhFxr5uLpoFrzbno+khLr9q7rY9y4V6IB5vjUv40SjyJGO07ISO1O9nIFMILyll9EoABXtdWOrKVxxObdjInbicv0ZMv2kD1+NHlX8S9ap0b+dDd82UO1DqYVJVzccB6HNS2Ty/tX1s37jjVhCvLkZ4M3wzokevhSN6LSreftRs+ZXm1cpwdCrbAjA2d6XVRk0IVVfRVKGdsCIIzJSKThxkE+vbW1QHJgFlwDlKBfs7MZwRG3HiZ+M3FjnQ2xaWZ1A6dnsrG6jLTe8qWR1CrwLimRLJJxZe2bEoMZBkq2HzLGgU4fStYXinSBgavIFy8fXIT53Cgl/RLOQfOTAja6A/AshEKvXhqSBIfPCe1NDAJvNdIEvGteC8v03YmgDAGL&p=0',\n",
       "   'thumbnail': 'https://ssl.pstatic.net/adimg3.search/imp/nx/power/m/230719/img/icon_favicon.png'},\n",
       "  {'title': '나만의 AI 개인비서 에이닷',\n",
       "   'description': '나만을 위한 즐거움과 새로움이 가득한 인공지능',\n",
       "   'site': 'a.sktelecom.com',\n",
       "   'link': 'https://adcr.naver.com/adcr?x=hNvWs0QYAnluV3uxWTlPvP///w==k7KZEjqRGeTOdCjMap/+qH3qft8BQXIZR/TJACRLKemSgaFP3lxqoqZhYkIGVwqUStw0RGVRLCb9rvWtFhfEfwbusFDaOsgX2BUkgScgTUcCd1eObsO7Pp1DqdbWlWY7rAm0nakSxDqyADUAScorBYYdQshomxTz8TpQjMaOWk7Mprh5JwvuS0Ll531uwwx6mEdInrx04IBmKOj4ql8j7+GsF8IasYeL6o/3T6MD+98mUTnbRJQcsjiMnEo8Mjn8xiV5cF8k3bQwIRl4l6SLC9hFRa1fTN2AHzmQ7+uLPE4M869ZgpNBlFHhCjoU310N7HSk/pl67rONlg6ffyU71uFuBlXS8AATFt20EJlvKsS+SHZRtDF39hS+iLrKVr+zzEUdHRyqxWPW0sAJdufpJ3UvYA1bw+NEKqwqbUoE/oPjNg7CdJopMIlLEJaekh5wxdP9ZxmkBDmDH6uPAe290GKX3q8Siv0lzcGucDyxwXWEvKVrFvbzqLMDLFNQ2lvvzp4o7NY9CyqOEhGLEkkqrS7rSZLHtgeYJJIUuDMH8NfyxSXlIIC3wQuYeREyv/QFIQvIsokCyLWodYkFDyKquhW/mawJqeueG8b1qk1VFtD4IGe6hr5mJAZU4Os+d0EMvFbDQwz/T4PfZEfcP9zcfwSLTAtzgd5LCsk9mNjNxwyPXg7iSeqMkM0se6OiiwdtsRfNUqCRvbU8eBgKi1OI+TCEyWCIPXri9qGw738jdgbmmXAXxQLREkMmMjn+pBPDFDQ+zBTgbz/LTPlLEj01g4hUBeznp+Xa8+GF/OiyTdL07ooS+6SlAclU+x/9qPKuUe8aBjCzlpSGok5WcrziDivd1+5C7FkB/Q6YnpS7cnXYgypYH4ulSmOCODbWsIpR5htXgLj1x7PkGsiorexg1LImvsdL2HJZuld635na3t6hDTGxljwKC/yNAlpv2L6IMg41DamPbVjNW39AjMUV7seWlqdjzPmfzhPXGhCa/xL/RkgGrvMyat0x9+wp6q8xB+AbZSnfne+w7nVbB3ptY8w==&p=0',\n",
       "   'thumbnail': 'https://ssl.pstatic.net/adimg3.search/imp/nx/power/m/230719/img/icon_favicon.png'},\n",
       "  {'title': '팀노바',\n",
       "   'description': '최근 졸업생 전원연봉 5000~8000만원. 고연봉개발자 전문양성소',\n",
       "   'site': 'teamnova.co.kr',\n",
       "   'link': 'https://adcr.naver.com/adcr?x=UiiQXsCbTweb0P/NwH3MR////w==kZ/YENU79eNnntOCDAA1OtUgSeikpFKV2T0qUtSCXgH5pu+DaHJH04PM3LIy93OcmrbEiGmuEbzGOOpoWV7joKt2pXCe3J2WIWEg1eu1faikfwzsJ9k2Elf7rKzQWN2e6bFkWflRwqRInZz4+4i4SQp4YQJhOiUqYjXU9yJeeWcwPwEl4Ff79/4XDQzL/gyVr8/BV4zLPXGTnftmD6OFWUtbJtDpoPZGr1pF1icHeWkTaCWU9I+zyqtW+khmvstxQYDnhpg663WgswBSeZ19KMRPjR4JUzHGcHbc32tpj2YghhCga1YF5T7SEjGi6VndMw8qv878OtD+78ik/yqYXbYEuEtNkU97KRpS4UudMZUY0N91CfbGnwD5QLsg1EeRtAglVhAE4tqfyulcNwenOIxe+aO6jcU6g2z7n4aKCDfRzVfEPmMQVOR9PTCJV+JBErgEsBPN+rKUvFO4RVeXXlm2yxGPF6f4yZoioNLhkOshHiaJ6lZZivu8MILjg+LYU3WYPsOADrFSkxLoBIuhOFQFAWBDOfSlGGcJHLes2/Esm01bv4Zk0m+EKQOM8FWXxpYBfoa2kq8BrDKnEjTd+NKOQ3y4ciIay0ZbFgQPl+iS97+8qp0JIJH9Y3HrZRGhcwgdPg/aFjhyH/udOHcMk6u6Etkvw5dEGDbSosZNUFOKi86MQAcljkjhh/tG3r9m6&p=0',\n",
       "   'thumbnail': 'https://ssl.pstatic.net/adimg3.search/imp/nx/power/m/230719/img/icon_favicon.png'}],\n",
       " 'organic_results': [{'position': 1,\n",
       "   'title': '인공지능 - 위키백과 한국',\n",
       "   'link': 'https://ko.wikipedia.org/wiki/%EC%9D%B8%EA%B3%B5%EC%A7%80%EB%8A%A5',\n",
       "   'displayed_link': 'ko.wikipedia.org›인공지능'},\n",
       "  {'position': 2,\n",
       "   'title': '인공지능 - 나무위키',\n",
       "   'link': 'https://namu.wiki/w/%EC%9D%B8%EA%B3%B5%EC%A7%80%EB%8A%A5',\n",
       "   'displayed_link': 'namu.wiki›인공지능'},\n",
       "  {'position': 3,\n",
       "   'title': '인공 지능의 정의와 활용 방안 | SAS KOREA',\n",
       "   'link': 'https://www.sas.com/ko_kr/insights/analytics/what-is-artificial-intelligence.html',\n",
       "   'displayed_link': 'www.sas.com›ko_kr'},\n",
       "  {'position': 4,\n",
       "   'title': '인공 지능(AI)이란? | 용어 해설 | HPE 대한민국',\n",
       "   'link': 'https://www.hpe.com/kr/ko/what-is/artificial-intelligence.html',\n",
       "   'displayed_link': 'www.hpe.com›kr'},\n",
       "  {'position': 5,\n",
       "   'title': '인공지능의 개요 - 위키백과 한국',\n",
       "   'link': 'https://ko.wikipedia.org/wiki/%EC%9D%B8%EA%B3%B5%EC%A7%80%EB%8A%A5%EC%9D%98_%EA%B0%9C%EC%9A%94',\n",
       "   'displayed_link': 'ko.wikipedia.org›인공지능의_개요'},\n",
       "  {'position': 6,\n",
       "   'title': '인공지능(AI)이란 무엇인가요? | Google Cloud',\n",
       "   'link': 'https://cloud.google.com/learn/what-is-artificial-intelligence?hl=ko',\n",
       "   'displayed_link': 'cloud.google.com›learn'},\n",
       "  {'position': 7,\n",
       "   'title': '생성형 인공지능 - 위키백과 한국',\n",
       "   'link': 'https://ko.wikipedia.org/wiki/%EC%83%9D%EC%84%B1%ED%98%95_%EC%9D%B8%EA%B3%B5%EC%A7%80%EB%8A%A5',\n",
       "   'displayed_link': 'ko.wikipedia.org›생성형_인공지능'},\n",
       "  {'position': 8,\n",
       "   'title': '인공 지능 | Dell 대한민국',\n",
       "   'link': 'https://www.dell.com/ko-kr/dt/solutions/artificial-intelligence/index.htm',\n",
       "   'displayed_link': 'www.dell.com›ko-kr'},\n",
       "  {'position': 9,\n",
       "   'title': '인공지능학과 - 나무위키',\n",
       "   'link': 'https://namu.wiki/w/%EC%9D%B8%EA%B3%B5%EC%A7%80%EB%8A%A5%ED%95%99%EA%B3%BC',\n",
       "   'displayed_link': 'namu.wiki›인공지능학과'},\n",
       "  {'position': 10,\n",
       "   'title': '[AI] 인공지능 적용 사례 19가지',\n",
       "   'link': 'https://byul91oh.tistory.com/m/70',\n",
       "   'displayed_link': 'byul91oh.tistory.com'},\n",
       "  {'position': 11,\n",
       "   'title': '[김병필의 인공지능 개척시대] 집집마다 인공지능 | 중앙일보',\n",
       "   'link': 'https://www.joongang.co.kr/article/25193155',\n",
       "   'displayed_link': 'www.joongang.co.kr›오피니언'},\n",
       "  {'position': 12,\n",
       "   'title': 'AI(인공 지능) 솔루션 | HPE 대한민국',\n",
       "   'link': 'https://www.hpe.com/kr/ko/solutions/ai-artificial-intelligence.html',\n",
       "   'displayed_link': 'www.hpe.com›kr'},\n",
       "  {'position': 13,\n",
       "   'title': '인공지능과 빅데이터 관계 - 모두의연구소',\n",
       "   'link': 'https://modulabs.co.kr/blog/ai-bigdata/',\n",
       "   'displayed_link': 'modulabs.co.kr›blog'},\n",
       "  {'position': 14,\n",
       "   'title': '인공지능(Artificial Intelligence)의 장단점',\n",
       "   'link': 'https://6u2ni.tistory.com/37',\n",
       "   'displayed_link': '6u2ni.tistory.com'},\n",
       "  {'position': 15,\n",
       "   'title': 'What is Artificial Intelligence (AI)? | Oracle 대한민국',\n",
       "   'link': 'https://www.oracle.com/kr/artificial-intelligence/what-is-ai/',\n",
       "   'displayed_link': 'www.oracle.com›인공 지능'}],\n",
       " 'pagination': {'current': 2,\n",
       "  'next': 'https://search.naver.com?query=%EC%9D%B8%EA%B3%B5%EC%A7%80%EB%8A%A5&start=16&where=web',\n",
       "  'other_pages': {'1': 'https://search.naver.com?nso=&query=%EC%9D%B8%EA%B3%B5%EC%A7%80%EB%8A%A5&sm=mtb_pge&where=m',\n",
       "   '2': 'https://search.naver.com?nso=&page=2&query=%EC%9D%B8%EA%B3%B5%EC%A7%80%EB%8A%A5&sm=mtb_pge&start=1&where=m_web',\n",
       "   '3': 'https://search.naver.com?nso=&page=3&query=%EC%9D%B8%EA%B3%B5%EC%A7%80%EB%8A%A5&sm=mtb_pge&start=16&where=m_web',\n",
       "   '4': 'https://search.naver.com?nso=&page=4&query=%EC%9D%B8%EA%B3%B5%EC%A7%80%EB%8A%A5&sm=mtb_pge&start=31&where=m_web',\n",
       "   '5': 'https://search.naver.com?nso=&page=5&query=%EC%9D%B8%EA%B3%B5%EC%A7%80%EB%8A%A5&sm=mtb_pge&start=46&where=m_web'}},\n",
       " 'serpapi_pagination': {'current': 2,\n",
       "  'next_link': 'https://serpapi.com/search.json?engine=naver&query=%EC%9D%B8%EA%B3%B5%EC%A7%80%EB%8A%A5&start=16&where=web',\n",
       "  'next': 'https://serpapi.com/search.json?engine=naver&query=%EC%9D%B8%EA%B3%B5%EC%A7%80%EB%8A%A5&start=16&where=web',\n",
       "  'other_pages': {'1': 'https://serpapi.com/search.json?engine=naver&query=%EC%9D%B8%EA%B3%B5%EC%A7%80%EB%8A%A5&where=m',\n",
       "   '2': 'https://serpapi.com/search.json?engine=naver&page=2&query=%EC%9D%B8%EA%B3%B5%EC%A7%80%EB%8A%A5&start=1&where=m_web',\n",
       "   '3': 'https://serpapi.com/search.json?engine=naver&page=3&query=%EC%9D%B8%EA%B3%B5%EC%A7%80%EB%8A%A5&start=16&where=m_web',\n",
       "   '4': 'https://serpapi.com/search.json?engine=naver&page=4&query=%EC%9D%B8%EA%B3%B5%EC%A7%80%EB%8A%A5&start=31&where=m_web',\n",
       "   '5': 'https://serpapi.com/search.json?engine=naver&page=5&query=%EC%9D%B8%EA%B3%B5%EC%A7%80%EB%8A%A5&start=46&where=m_web'}}}"
      ]
     },
     "execution_count": 38,
     "metadata": {},
     "output_type": "execute_result"
    }
   ],
   "source": [
    "a.get_dict()"
   ]
  },
  {
   "cell_type": "code",
   "execution_count": 1,
   "metadata": {},
   "outputs": [],
   "source": [
    "from tools.request_tools import request_tool"
   ]
  },
  {
   "cell_type": "code",
   "execution_count": 6,
   "metadata": {},
   "outputs": [
    {
     "name": "stderr",
     "output_type": "stream",
     "text": [
      "/opt/anaconda3/envs/langchain/lib/python3.11/site-packages/urllib3/connectionpool.py:1099: InsecureRequestWarning: Unverified HTTPS request is being made to host 'www.powerade.com'. Adding certificate verification is strongly advised. See: https://urllib3.readthedocs.io/en/latest/advanced-usage.html#tls-warnings\n",
      "  warnings.warn(\n"
     ]
    },
    {
     "data": {
      "text/plain": [
       "'ProductsPoweradePowerade ZeroPowerade Sports Freezer BarsPowerade GearView All Products PartnersFAQs NEW POWERADE ZERO Strawberry Smash POWERADE STRAWBERRY SMASH ZERO has zero sugar, 50% more electrolytes than Gatorade Thirst Quencher and deliciously ripe, sweet strawberry flavors. It takes more grind to dominate, so stock up on POWERADE today! Available Sizes:Â 28 fl oz Nutritional Facts Nutrition Facts 2.5 servings per container Serving Size 12 fl oz Calories 0 Total Fat 0g 0% Sodium 240mg 10% Total Carbohydrates 0g 0% Total Sugars 0g Includes Added Sugars 0g 0% Protein 0g 0% Calcium â\\x80 Potassium 80mg 2% Vitamin C 20% Vitamin B12 35% Magnesium â\\x80 Ingredients WATER, LESS THAN 0.5% OF: CITRIC ACID, ELECTROLYTES (SALT, SODIUM CITRATE, MAGNESIUM AND CALCIUM CHLORIDES, MONO-POTASSIUM PHOSPHATE), NATURAL FLAVORS, MODIFIED FOOD STARCH, SUCRALOSE, VITAMINS B12 AND C (CYANOCOBALAMIN AND ASCORBIC ACID), MEDIUM CHAIN TRIGLYCERIDES, SUCROSE ACETATE ISOBUTYRATE, ACESULFAME POTASSIUM, CALCIUM DISODIUM EDTA (TO PROTECT COLOR), RED 40. % Daily value per serving Not a significant source of sat. fat, trans fat, cholest., fiber, vit. D, and iron. Shop Now FIND NEAR YOU POWERADE Zero Mixed Berry POWERADE ZERO MIXED BERRY has zero sugar, 50% more electrolytes than Gatorade Thirst Quencher and hydrates with a unique blend of assorted berry flavors. It takes more grind to dominate, so stock up on POWERADE today! Available Sizes:Â 12 fl oz; 20 fl oz; 28 fl oz Nutritional Facts Nutrition Facts 2.5 servings per 28 fl oz container Serving Size 12 fl oz Calories 0 Total Fat 0g 0% Sodium 240mg 10% Total Carbohydrates 0g 0% Total Sugars 0g Includes Added Sugars 0g 0% Protein 0g 0% Calcium â\\x80 Potassium 80mg 2% Vitamin C 20% Vitamin B12 35% Magnesium â\\x80 Ingredients WATER, LESS THAN 0.5% OF: CITRIC ACID, ELECTROLYTES (SALT, SODIUM CITRATE, MAGNESIUM AND CALCIUM CHLORIDES, MONO-POTASSIUM PHOSPHATE), VITAMINS B12 AND C (CYANOCOBALAMIN AND ASCORBIC ACID), NATURAL FLAVORS, SUCRALOSE, ACESULFAME POTASSIUM, CALCIUM DISODIUM EDTA (TO PROTECT COLOR), BLUE 1. % Daily value per serving Not a significant source of sat. fat, trans fat, cholest., fiber, vit. D, and iron. â\\x80 Contains less than 2 percent of the Daily Value of these nutrients. Shop Now FIND NEAR YOU POWERADE ZERO Fruit Punch POWERADE ZERO FRUIT PUNCH has zero sugar, 50% more electrolytes than Gatorade Thirst Quencher and a vibrant blend of fruit flavors. It takes more grind to dominate, so stock up on POWERADE today! Available Sizes:Â 20 fl oz; 28 fl oz Nutritional Facts Nutrition Facts 2.5 servings per 28 fl oz container Serving Size 12 fl oz Calories 0 Total Fat 0g 0% Sodium 250mg 11% Total Carbohydrates 0g 0% Total Sugars 0g Includes Added Sugars 0g 0% Protein 0g 0% Calcium â\\x80 Potassium 80mg 2% Vitamin C 20% Vitamin B12 35% Magnesium â\\x80 Ingredients WATER, LESS THAN 0.5% OF: CITRIC ACID, ELECTROLYTES (SALT, SODIUM CITRATE, MAGNESIUM AND CALCIUM CHLORIDES, MONO-POTASSIUM PHOSPHATE), VITAMINS B12 AND C (CYANOCOBALAMIN AND ASCORBIC ACID), NATURAL FLAVORS, SUCRALOSE, ACESULFAME POTASSIUM, CALCIUM DISODIUM EDTA (TO PROTECT COLOR), RED 40. % Daily value per serving Not a significant source of sat. fat, trans fat, cholest., fiber, vit. D, and iron. â\\x80 Contains less than 2 percent of the Daily Value of these nutrients. Shop Now FIND NEAR YOU POWERADE Zero Grape POWERADE ZERO GRAPE has zero sugar, 50% more electrolytes than Gatorade Thirst Quencher and a deeply refreshing taste of ripe grapes. It takes more grind to dominate, so stock up on POWERADE GRAPE ZERO today! Available Sizes:Â 20 fl oz; 28 fl oz Nutritional Facts Nutrition Facts 2.5 servings per 28 fl oz container Serving Size 12 fl oz Calories 0 Total Fat 0g 0% Sodium 240mg 10% Total Carbohydrates 0g 0% Total Sugars 0g Includes Added Sugars 0g 0% Protein 0g 0% Calcium â\\x80 Potassium 80mg 2% Vitamin C 20% Vitamin B12 35% Magnesium â\\x80 Ingredients WATER, LESS THAN 0.5% OF: CITRIC ACID, ELECTROLYTES (SALT, SODIUM CITRATE, MAGNESIUM AND CALCIUM CHLORIDES, MONO-POTASSIUM PHOSPHATE), VITAMINS B12 AND C (CYANOCOBALAMIN AND ASCORBIC ACID), NATURAL AND ARTIFICIAL FLAVORS, SUCRALOSE, ACESULFAME POTASSIUM, CALCIUM DISODIUM EDTA (TO PROTECT COLOR), RED 40, BLUE 1. % Daily value per serving Not a significant source of sat. fat, trans fat, cholest., fiber, vit. D, and iron. â\\x80 Contains less than 2 percent of the Daily Value of these nutrients. Shop Now FIND NEAR YOU POWERADE Zero Orange POWERADE ZERO ORANGE has zero sugar, 50% more electrolytes than Gatorade Thirst Quencher and with a citrus experience and an invigorating burst of juicy orange flavor. It takes more grind to dominate, so stock up on POWERADE today! Available Sizes:Â 28 fl oz Nutritional Facts Nutrition Facts 2.5 servings per 28 fl oz container Serving Size 12 fl oz Calories 0 Total Fat 0g 0% Sodium 250mg 11% Total Carbohydrates 0g 0% Total Sugars 0g Includes Added Sugars 0g 0% Protein 0g 0% Calcium Potassium 80mg 2% Vitamin C 20% Vitamin B12 35% Magnesium Ingredients WATER, LESS THAN 0.5% OF: CITRIC ACID, ELECTROLYTES (SALT, SODIUM CITRATE, MAGNESIUM AND CALCIUM CHLORIDES, MONO-POTASSIUM PHOSPHATE), VITAMINS B12 AND C (CYANOCOBALAMIN AND ASCORBIC ACID), NATURAL FLAVORS, SUCRALOSE, ACESULFAME POTASSIUM, CALCIUM DISODIUM EDTA (TO PROTECT COLOR), YELLOW 5 AND 6. % Daily value per serving Not a significant source of sat. fat, trans fat, cholest., fiber, vit. D, and iron. â\\x80 Contains less than 2 percent of the Daily Value of these nutrients. Shop Now FIND NEAR YOU PRODUCTS PoweradePowerade ZeroPowerade Sports Freezer BarsPowerade GearView All Products PARTNERSPartnersNCAA FAQSLEGAL Contact UsTermsPrivacyCalifornia Notice at CollectionDo Not Sell or Share My Personal InformationRulesConsumer HealthÂ Data Privacy Policy X Instagram Youtube Facebook Copyright 2024 The Coca‑Cola Company. All rights reserved'"
      ]
     },
     "execution_count": 6,
     "metadata": {},
     "output_type": "execute_result"
    },
    {
     "ename": "",
     "evalue": "",
     "output_type": "error",
     "traceback": [
      "\u001b[1;31mThe Kernel crashed while executing code in the current cell or a previous cell. \n",
      "\u001b[1;31mPlease review the code in the cell(s) to identify a possible cause of the failure. \n",
      "\u001b[1;31mClick <a href='https://aka.ms/vscodeJupyterKernelCrash'>here</a> for more info. \n",
      "\u001b[1;31mView Jupyter <a href='command:jupyter.viewOutput'>log</a> for further details."
     ]
    }
   ],
   "source": [
    "request_tool(\"https://www.powerade.com/products/powerade-zero\")"
   ]
  },
  {
   "cell_type": "code",
   "execution_count": null,
   "metadata": {},
   "outputs": [],
   "source": []
  }
 ],
 "metadata": {
  "kernelspec": {
   "display_name": "langchain",
   "language": "python",
   "name": "python3"
  },
  "language_info": {
   "codemirror_mode": {
    "name": "ipython",
    "version": 3
   },
   "file_extension": ".py",
   "mimetype": "text/x-python",
   "name": "python",
   "nbconvert_exporter": "python",
   "pygments_lexer": "ipython3",
   "version": "3.11.5"
  }
 },
 "nbformat": 4,
 "nbformat_minor": 2
}
